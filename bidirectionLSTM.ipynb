{
  "nbformat": 4,
  "nbformat_minor": 0,
  "metadata": {
    "colab": {
      "name": "bidirectionLSTM.ipynb",
      "provenance": [],
      "collapsed_sections": [],
      "toc_visible": true
    },
    "kernelspec": {
      "name": "python3",
      "display_name": "Python 3"
    },
    "language_info": {
      "name": "python"
    },
    "accelerator": "GPU"
  },
  "cells": [
    {
      "cell_type": "markdown",
      "metadata": {
        "id": "jTIWWQYqG9te"
      },
      "source": [
        "## 소설 작가 분류 ai\n",
        "### Data load"
      ]
    },
    {
      "cell_type": "code",
      "metadata": {
        "id": "isovmlPiropD"
      },
      "source": [
        "import pandas as pd\n",
        "import numpy as np\n",
        "import re\n",
        "\n",
        "import seaborn as sns\n",
        "import matplotlib.pyplot as plt\n",
        "\n",
        "from sklearn.metrics import accuracy_score, log_loss\n",
        "from sklearn.model_selection import StratifiedKFold\n",
        "\n",
        "import tensorflow as tf\n",
        "from tensorflow.keras import Sequential\n",
        "from tensorflow.keras.layers import Dense, Embedding, LSTM, Dropout, Bidirectional\n",
        "from tensorflow.keras.preprocessing.sequence import pad_sequences\n",
        "from tensorflow.keras.preprocessing.text import Tokenizer\n",
        "from tensorflow.keras.callbacks import EarlyStopping, ReduceLROnPlateau\n",
        "from tensorflow.keras.utils import plot_model, to_categorical\n",
        "from tensorflow.keras.optimizers import Adam\n",
        "\n",
        "from keras.utils import np_utils\n",
        "\n",
        "import warnings \n",
        "warnings.filterwarnings(action='ignore')"
      ],
      "execution_count": 3,
      "outputs": []
    },
    {
      "cell_type": "code",
      "metadata": {
        "colab": {
          "base_uri": "https://localhost:8080/"
        },
        "id": "1e0pTQMTQdMv",
        "outputId": "0fe770a1-c281-4cab-8657-f692b87db2d2"
      },
      "source": [
        "# 한글 폰트 깨짐 방지 code\n",
        "!sudo apt-get install -y fonts-nanum \n",
        "\n",
        "!sudo fc-cache -fv \n",
        "\n",
        "!rm ~/.cache/matplotlib -rf\n"
      ],
      "execution_count": 4,
      "outputs": [
        {
          "output_type": "stream",
          "text": [
            "Reading package lists... Done\n",
            "Building dependency tree       \n",
            "Reading state information... Done\n",
            "The following NEW packages will be installed:\n",
            "  fonts-nanum\n",
            "0 upgraded, 1 newly installed, 0 to remove and 30 not upgraded.\n",
            "Need to get 9,604 kB of archives.\n",
            "After this operation, 29.5 MB of additional disk space will be used.\n",
            "Get:1 http://archive.ubuntu.com/ubuntu bionic/universe amd64 fonts-nanum all 20170925-1 [9,604 kB]\n",
            "Fetched 9,604 kB in 2s (5,279 kB/s)\n",
            "debconf: unable to initialize frontend: Dialog\n",
            "debconf: (No usable dialog-like program is installed, so the dialog based frontend cannot be used. at /usr/share/perl5/Debconf/FrontEnd/Dialog.pm line 76, <> line 1.)\n",
            "debconf: falling back to frontend: Readline\n",
            "debconf: unable to initialize frontend: Readline\n",
            "debconf: (This frontend requires a controlling tty.)\n",
            "debconf: falling back to frontend: Teletype\n",
            "dpkg-preconfigure: unable to re-open stdin: \n",
            "Selecting previously unselected package fonts-nanum.\n",
            "(Reading database ... 160980 files and directories currently installed.)\n",
            "Preparing to unpack .../fonts-nanum_20170925-1_all.deb ...\n",
            "Unpacking fonts-nanum (20170925-1) ...\n",
            "Setting up fonts-nanum (20170925-1) ...\n",
            "Processing triggers for fontconfig (2.12.6-0ubuntu2) ...\n",
            "/usr/share/fonts: caching, new cache contents: 0 fonts, 1 dirs\n",
            "/usr/share/fonts/truetype: caching, new cache contents: 0 fonts, 3 dirs\n",
            "/usr/share/fonts/truetype/humor-sans: caching, new cache contents: 1 fonts, 0 dirs\n",
            "/usr/share/fonts/truetype/liberation: caching, new cache contents: 16 fonts, 0 dirs\n",
            "/usr/share/fonts/truetype/nanum: caching, new cache contents: 10 fonts, 0 dirs\n",
            "/usr/local/share/fonts: caching, new cache contents: 0 fonts, 0 dirs\n",
            "/root/.local/share/fonts: skipping, no such directory\n",
            "/root/.fonts: skipping, no such directory\n",
            "/var/cache/fontconfig: cleaning cache directory\n",
            "/root/.cache/fontconfig: not cleaning non-existent cache directory\n",
            "/root/.fontconfig: not cleaning non-existent cache directory\n",
            "fc-cache: succeeded\n"
          ],
          "name": "stdout"
        }
      ]
    },
    {
      "cell_type": "code",
      "metadata": {
        "colab": {
          "base_uri": "https://localhost:8080/"
        },
        "id": "8lt_AJhnR0m3",
        "outputId": "8f56d58b-daba-49b1-dc97-32537c71b25a"
      },
      "source": [
        "from google.colab import drive\n",
        "drive.mount('/content/drive')"
      ],
      "execution_count": 5,
      "outputs": [
        {
          "output_type": "stream",
          "text": [
            "Drive already mounted at /content/drive; to attempt to forcibly remount, call drive.mount(\"/content/drive\", force_remount=True).\n"
          ],
          "name": "stdout"
        }
      ]
    },
    {
      "cell_type": "code",
      "metadata": {
        "id": "MMPi4LAoQM_7"
      },
      "source": [
        "train = pd.read_csv('/content/drive/MyDrive/nlp/train.csv', encoding = 'utf-8')\n",
        "test = pd.read_csv('/content/drive/MyDrive/nlp/test_x.csv', encoding = 'utf-8')\n",
        "sample_submission = pd.read_csv('/content/drive/MyDrive/nlp/sample_submission.csv', encoding = 'utf-8')"
      ],
      "execution_count": 6,
      "outputs": []
    },
    {
      "cell_type": "code",
      "metadata": {
        "colab": {
          "base_uri": "https://localhost:8080/",
          "height": 415
        },
        "id": "G_cuUhjBQjVW",
        "outputId": "f4baa2b8-a10f-412d-e1d6-519f1df92e97"
      },
      "source": [
        "train"
      ],
      "execution_count": 7,
      "outputs": [
        {
          "output_type": "execute_result",
          "data": {
            "text/html": [
              "<div>\n",
              "<style scoped>\n",
              "    .dataframe tbody tr th:only-of-type {\n",
              "        vertical-align: middle;\n",
              "    }\n",
              "\n",
              "    .dataframe tbody tr th {\n",
              "        vertical-align: top;\n",
              "    }\n",
              "\n",
              "    .dataframe thead th {\n",
              "        text-align: right;\n",
              "    }\n",
              "</style>\n",
              "<table border=\"1\" class=\"dataframe\">\n",
              "  <thead>\n",
              "    <tr style=\"text-align: right;\">\n",
              "      <th></th>\n",
              "      <th>index</th>\n",
              "      <th>text</th>\n",
              "      <th>author</th>\n",
              "    </tr>\n",
              "  </thead>\n",
              "  <tbody>\n",
              "    <tr>\n",
              "      <th>0</th>\n",
              "      <td>0</td>\n",
              "      <td>He was almost choking. There was so much, so m...</td>\n",
              "      <td>3</td>\n",
              "    </tr>\n",
              "    <tr>\n",
              "      <th>1</th>\n",
              "      <td>1</td>\n",
              "      <td>“Your sister asked for it, I suppose?”</td>\n",
              "      <td>2</td>\n",
              "    </tr>\n",
              "    <tr>\n",
              "      <th>2</th>\n",
              "      <td>2</td>\n",
              "      <td>She was engaged one day as she walked, in per...</td>\n",
              "      <td>1</td>\n",
              "    </tr>\n",
              "    <tr>\n",
              "      <th>3</th>\n",
              "      <td>3</td>\n",
              "      <td>The captain was in the porch, keeping himself ...</td>\n",
              "      <td>4</td>\n",
              "    </tr>\n",
              "    <tr>\n",
              "      <th>4</th>\n",
              "      <td>4</td>\n",
              "      <td>“Have mercy, gentlemen!” odin flung up his han...</td>\n",
              "      <td>3</td>\n",
              "    </tr>\n",
              "    <tr>\n",
              "      <th>...</th>\n",
              "      <td>...</td>\n",
              "      <td>...</td>\n",
              "      <td>...</td>\n",
              "    </tr>\n",
              "    <tr>\n",
              "      <th>54874</th>\n",
              "      <td>54874</td>\n",
              "      <td>“Is that you, Mr. Smith?” odin whispered. “I h...</td>\n",
              "      <td>2</td>\n",
              "    </tr>\n",
              "    <tr>\n",
              "      <th>54875</th>\n",
              "      <td>54875</td>\n",
              "      <td>I told my plan to the captain, and between us ...</td>\n",
              "      <td>4</td>\n",
              "    </tr>\n",
              "    <tr>\n",
              "      <th>54876</th>\n",
              "      <td>54876</td>\n",
              "      <td>\"Your sincere well-wisher, friend, and sister...</td>\n",
              "      <td>1</td>\n",
              "    </tr>\n",
              "    <tr>\n",
              "      <th>54877</th>\n",
              "      <td>54877</td>\n",
              "      <td>“Then you wanted me to lend you money?”</td>\n",
              "      <td>3</td>\n",
              "    </tr>\n",
              "    <tr>\n",
              "      <th>54878</th>\n",
              "      <td>54878</td>\n",
              "      <td>It certainly had not occurred to me before, bu...</td>\n",
              "      <td>0</td>\n",
              "    </tr>\n",
              "  </tbody>\n",
              "</table>\n",
              "<p>54879 rows × 3 columns</p>\n",
              "</div>"
            ],
            "text/plain": [
              "       index                                               text  author\n",
              "0          0  He was almost choking. There was so much, so m...       3\n",
              "1          1             “Your sister asked for it, I suppose?”       2\n",
              "2          2   She was engaged one day as she walked, in per...       1\n",
              "3          3  The captain was in the porch, keeping himself ...       4\n",
              "4          4  “Have mercy, gentlemen!” odin flung up his han...       3\n",
              "...      ...                                                ...     ...\n",
              "54874  54874  “Is that you, Mr. Smith?” odin whispered. “I h...       2\n",
              "54875  54875  I told my plan to the captain, and between us ...       4\n",
              "54876  54876   \"Your sincere well-wisher, friend, and sister...       1\n",
              "54877  54877            “Then you wanted me to lend you money?”       3\n",
              "54878  54878  It certainly had not occurred to me before, bu...       0\n",
              "\n",
              "[54879 rows x 3 columns]"
            ]
          },
          "metadata": {
            "tags": []
          },
          "execution_count": 7
        }
      ]
    },
    {
      "cell_type": "markdown",
      "metadata": {
        "id": "rihrLLkzr-A7"
      },
      "source": [
        "### 전처리"
      ]
    },
    {
      "cell_type": "code",
      "metadata": {
        "id": "kUSWqCBVA__t"
      },
      "source": [
        "from nltk.corpus import stopwords\n",
        "import nltk"
      ],
      "execution_count": 8,
      "outputs": []
    },
    {
      "cell_type": "code",
      "metadata": {
        "colab": {
          "base_uri": "https://localhost:8080/"
        },
        "id": "KAR9g4RMBBkS",
        "outputId": "71c7e569-13a8-42ce-918a-b3cd2ec4c690"
      },
      "source": [
        "nltk.download('stopwords')\n",
        "eng_stopwords = stopwords.words('english')"
      ],
      "execution_count": 9,
      "outputs": [
        {
          "output_type": "stream",
          "text": [
            "[nltk_data] Downloading package stopwords to /root/nltk_data...\n",
            "[nltk_data]   Unzipping corpora/stopwords.zip.\n"
          ],
          "name": "stdout"
        }
      ]
    },
    {
      "cell_type": "code",
      "metadata": {
        "id": "7vS3EhqXBBqq"
      },
      "source": [
        "#특수기호 제거\n",
        "def alpha_num(text):\n",
        "    return re.sub(r'[^a-zA-Z0-9 ]', '', text)\n",
        "#불용어 제거\n",
        "def remove_stopwords(text):\n",
        "    removed_text = []\n",
        "    for i in text.split():\n",
        "        if i.strip().lower() not in eng_stopwords:\n",
        "            removed_text.append(i.strip())\n",
        "    return \" \".join(removed_text)"
      ],
      "execution_count": 11,
      "outputs": []
    },
    {
      "cell_type": "code",
      "metadata": {
        "id": "zsu414tHQvDl"
      },
      "source": [
        "#전처리 적용\n",
        "train['text'] = train['text'].str.lower()\n",
        "test['text'] = test['text'].str.lower()\n",
        "train['text'] = train['text'].apply(alpha_num).apply(remove_stopwords)\n",
        "test['text'] = test['text'].apply(alpha_num).apply(remove_stopwords)"
      ],
      "execution_count": 12,
      "outputs": []
    },
    {
      "cell_type": "code",
      "metadata": {
        "colab": {
          "base_uri": "https://localhost:8080/",
          "height": 415
        },
        "id": "lsgtW1vCWIKI",
        "outputId": "4662f6c9-3ffd-46ab-ae72-0e549d810b94"
      },
      "source": [
        "train"
      ],
      "execution_count": 13,
      "outputs": [
        {
          "output_type": "execute_result",
          "data": {
            "text/html": [
              "<div>\n",
              "<style scoped>\n",
              "    .dataframe tbody tr th:only-of-type {\n",
              "        vertical-align: middle;\n",
              "    }\n",
              "\n",
              "    .dataframe tbody tr th {\n",
              "        vertical-align: top;\n",
              "    }\n",
              "\n",
              "    .dataframe thead th {\n",
              "        text-align: right;\n",
              "    }\n",
              "</style>\n",
              "<table border=\"1\" class=\"dataframe\">\n",
              "  <thead>\n",
              "    <tr style=\"text-align: right;\">\n",
              "      <th></th>\n",
              "      <th>index</th>\n",
              "      <th>text</th>\n",
              "      <th>author</th>\n",
              "    </tr>\n",
              "  </thead>\n",
              "  <tbody>\n",
              "    <tr>\n",
              "      <th>0</th>\n",
              "      <td>0</td>\n",
              "      <td>almost choking much much wanted say strange ex...</td>\n",
              "      <td>3</td>\n",
              "    </tr>\n",
              "    <tr>\n",
              "      <th>1</th>\n",
              "      <td>1</td>\n",
              "      <td>sister asked suppose</td>\n",
              "      <td>2</td>\n",
              "    </tr>\n",
              "    <tr>\n",
              "      <th>2</th>\n",
              "      <td>2</td>\n",
              "      <td>engaged one day walked perusing janes last let...</td>\n",
              "      <td>1</td>\n",
              "    </tr>\n",
              "    <tr>\n",
              "      <th>3</th>\n",
              "      <td>3</td>\n",
              "      <td>captain porch keeping carefully way treacherou...</td>\n",
              "      <td>4</td>\n",
              "    </tr>\n",
              "    <tr>\n",
              "      <th>4</th>\n",
              "      <td>4</td>\n",
              "      <td>mercy gentlemen odin flung hands dont write an...</td>\n",
              "      <td>3</td>\n",
              "    </tr>\n",
              "    <tr>\n",
              "      <th>...</th>\n",
              "      <td>...</td>\n",
              "      <td>...</td>\n",
              "      <td>...</td>\n",
              "    </tr>\n",
              "    <tr>\n",
              "      <th>54874</th>\n",
              "      <td>54874</td>\n",
              "      <td>mr smith odin whispered hardly dared hope woul...</td>\n",
              "      <td>2</td>\n",
              "    </tr>\n",
              "    <tr>\n",
              "      <th>54875</th>\n",
              "      <td>54875</td>\n",
              "      <td>told plan captain us settled details accomplis...</td>\n",
              "      <td>4</td>\n",
              "    </tr>\n",
              "    <tr>\n",
              "      <th>54876</th>\n",
              "      <td>54876</td>\n",
              "      <td>sincere wellwisher friend sister lucy odin</td>\n",
              "      <td>1</td>\n",
              "    </tr>\n",
              "    <tr>\n",
              "      <th>54877</th>\n",
              "      <td>54877</td>\n",
              "      <td>wanted lend money</td>\n",
              "      <td>3</td>\n",
              "    </tr>\n",
              "    <tr>\n",
              "      <th>54878</th>\n",
              "      <td>54878</td>\n",
              "      <td>certainly occurred said yes like</td>\n",
              "      <td>0</td>\n",
              "    </tr>\n",
              "  </tbody>\n",
              "</table>\n",
              "<p>54879 rows × 3 columns</p>\n",
              "</div>"
            ],
            "text/plain": [
              "       index                                               text  author\n",
              "0          0  almost choking much much wanted say strange ex...       3\n",
              "1          1                               sister asked suppose       2\n",
              "2          2  engaged one day walked perusing janes last let...       1\n",
              "3          3  captain porch keeping carefully way treacherou...       4\n",
              "4          4  mercy gentlemen odin flung hands dont write an...       3\n",
              "...      ...                                                ...     ...\n",
              "54874  54874  mr smith odin whispered hardly dared hope woul...       2\n",
              "54875  54875  told plan captain us settled details accomplis...       4\n",
              "54876  54876         sincere wellwisher friend sister lucy odin       1\n",
              "54877  54877                                  wanted lend money       3\n",
              "54878  54878                   certainly occurred said yes like       0\n",
              "\n",
              "[54879 rows x 3 columns]"
            ]
          },
          "metadata": {
            "tags": []
          },
          "execution_count": 13
        }
      ]
    },
    {
      "cell_type": "code",
      "metadata": {
        "colab": {
          "base_uri": "https://localhost:8080/",
          "height": 311
        },
        "id": "p8tdpn3DQvHm",
        "outputId": "d03808b7-9943-4812-8be9-c31b2981fc58"
      },
      "source": [
        "#작가 별 분포 확인\n",
        "train.groupby(train.author).size().reset_index(name=\"counts\").plot.bar(x='author',title=\"Samples per each class (Training set)\")"
      ],
      "execution_count": 14,
      "outputs": [
        {
          "output_type": "execute_result",
          "data": {
            "text/plain": [
              "<matplotlib.axes._subplots.AxesSubplot at 0x7fe38e509850>"
            ]
          },
          "metadata": {
            "tags": []
          },
          "execution_count": 14
        },
        {
          "output_type": "display_data",
          "data": {
            "image/png": "[encoded data removed]",
            "text/plain": [
              "<Figure size 432x288 with 1 Axes>"
            ]
          },
          "metadata": {
            "tags": [],
            "needs_background": "light"
          }
        }
      ]
    },
    {
      "cell_type": "code",
      "metadata": {
        "id": "G4RJj--QQvLj"
      },
      "source": [
        "# 문장 길이 분포도 확인(불용어 제외 단어수)\n",
        "train['doc_len'] = train.text.apply(lambda words: len(words.split()))"
      ],
      "execution_count": 15,
      "outputs": []
    },
    {
      "cell_type": "code",
      "metadata": {
        "colab": {
          "base_uri": "https://localhost:8080/"
        },
        "id": "uVLA-eEcsmaN",
        "outputId": "f47d3ce5-0b35-42a4-81f9-34da99c287a8"
      },
      "source": [
        "# 99% 기준으로 추후 데이터 학습에 사용, value = 111\n",
        "percent =[0.25,0.5,0.75,0.99]\n",
        "train['doc_len'].describe(percentiles = percent)"
      ],
      "execution_count": 16,
      "outputs": [
        {
          "output_type": "execute_result",
          "data": {
            "text/plain": [
              "count    54879.000000\n",
              "mean        19.582281\n",
              "std         23.220689\n",
              "min          0.000000\n",
              "25%          6.000000\n",
              "50%         10.000000\n",
              "75%         23.000000\n",
              "99%        111.000000\n",
              "max        212.000000\n",
              "Name: doc_len, dtype: float64"
            ]
          },
          "metadata": {
            "tags": []
          },
          "execution_count": 16
        }
      ]
    },
    {
      "cell_type": "code",
      "metadata": {
        "colab": {
          "base_uri": "https://localhost:8080/",
          "height": 300
        },
        "id": "sMa0EZJdQvPQ",
        "outputId": "1797f380-2203-43e3-b3c8-5632a104b804"
      },
      "source": [
        "def plot_doc_lengths(dataframe):\n",
        "    mean_seq_len = np.round(dataframe.doc_len.mean()).astype(int)\n",
        "    sns.distplot(tuple(dataframe.doc_len), hist=True, kde=True, label='Document lengths')\n",
        "    plt.axvline(x=mean_seq_len, color='k', linestyle='--', label=f'Sequence length mean:{mean_seq_len}')\n",
        "    plt.title('Document lengths')\n",
        "    plt.legend()\n",
        "    plt.show()\n",
        "    print(f\" 가장 긴 문장은 {train['doc_len'].max()} 개의 단어를, 가장 짧은 문장은 {train['doc_len'].min()} 개의 단어를 가지고 있습니다.\")\n",
        "\n",
        "plot_doc_lengths(train)"
      ],
      "execution_count": 17,
      "outputs": [
        {
          "output_type": "display_data",
          "data": {
            "image/png": "[encoded data removed]",
            "text/plain": [
              "<Figure size 432x288 with 1 Axes>"
            ]
          },
          "metadata": {
            "tags": [],
            "needs_background": "light"
          }
        },
        {
          "output_type": "stream",
          "text": [
            " 가장 긴 문장은 212 개의 단어를, 가장 짧은 문장은 0 개의 단어를 가지고 있습니다.\n"
          ],
          "name": "stdout"
        }
      ]
    },
    {
      "cell_type": "code",
      "metadata": {
        "id": "fMtIJBhhQvS-"
      },
      "source": [
        "# train 데이터와 test 데이터 인덱스 없이 배열로 만들기\n",
        "X_train = np.array([x for x in train['text']])\n",
        "X_test = np.array([x for x in test['text']])\n",
        "Y_train = np.array([x for x in train['author']])\n"
      ],
      "execution_count": 18,
      "outputs": []
    },
    {
      "cell_type": "code",
      "metadata": {
        "colab": {
          "base_uri": "https://localhost:8080/"
        },
        "id": "vRWetCzKYLGd",
        "outputId": "868e0a71-06e3-49db-f3be-1762ccdbd7ba"
      },
      "source": [
        "Y_train"
      ],
      "execution_count": 20,
      "outputs": [
        {
          "output_type": "execute_result",
          "data": {
            "text/plain": [
              "array([3, 2, 1, ..., 1, 3, 0])"
            ]
          },
          "metadata": {
            "tags": []
          },
          "execution_count": 20
        }
      ]
    },
    {
      "cell_type": "code",
      "metadata": {
        "colab": {
          "base_uri": "https://localhost:8080/"
        },
        "id": "se0YI34gQvYH",
        "outputId": "f6f8868f-7855-4642-bea4-a0752a2dd740"
      },
      "source": [
        "# Tokenizer\n",
        "from keras.preprocessing.text import Tokenizer\n",
        "vocab_size = 2000  \n",
        "\n",
        "tokenizer = Tokenizer(num_words = vocab_size)  \n",
        "  # Tokenizer 는 데이터에 출현하는 모든 단어의 개수를 세고 빈도 수로 정렬해서 \n",
        "  # num_words 에 지정된 만큼만 숫자로 반환하고, 나머지는 0 으로 반환합니다                 \n",
        "tokenizer.fit_on_texts(X_train) # Tokenizer 에 데이터 실제로 입력\n",
        "tokenizer.fit_on_texts(X_test) # Tokenizer 에 데이터 실제로 입력\n",
        "sequences_train = tokenizer.texts_to_sequences(X_train)    # 문장 내 모든 단어를 시퀀스 번호로 변환\n",
        "sequences_test = tokenizer.texts_to_sequences(X_test)      # 문장 내 모든 단어를 시퀀스 번호로 변환\n",
        "\n",
        "print(len(sequences_train), len(sequences_test))"
      ],
      "execution_count": 22,
      "outputs": [
        {
          "output_type": "stream",
          "text": [
            "54879 19617\n"
          ],
          "name": "stdout"
        }
      ]
    },
    {
      "cell_type": "code",
      "metadata": {
        "id": "fAaY8DI0Q96M"
      },
      "source": [
        "# 변환된 시퀀스 번호를 이용해 단어 임베딩 벡터 생성\n",
        "word_index = tokenizer.word_index"
      ],
      "execution_count": 25,
      "outputs": []
    },
    {
      "cell_type": "code",
      "metadata": {
        "colab": {
          "base_uri": "https://localhost:8080/"
        },
        "id": "q0OUW3FXQ9_s",
        "outputId": "c4f4641f-fd89-4547-e3ac-cb05184ddf6c"
      },
      "source": [
        "# 독립변수 데이터 전처리\n",
        "  ## 문장의 길이기 제각각이기 때문에 벡터 크기 다 다름\n",
        "  ## 그러므로 최대 시퀀스 길이 크기(211) 만큼 넉넉하게 늘리고\n",
        "  ## 패딩(padding) 작업을 통해 나머지 빈 공간을 0으로 채움\n",
        "max_length = 150    # 위에서 그래프 확인 후 정함\n",
        "padding_type='post'\n",
        "\n",
        "train_x = pad_sequences(sequences_train, padding='post', maxlen=max_length)\n",
        "test_x = pad_sequences(sequences_test, padding=padding_type, maxlen=max_length)\n",
        "\n",
        "print(train_x.shape, test_x.shape)"
      ],
      "execution_count": 24,
      "outputs": [
        {
          "output_type": "stream",
          "text": [
            "(54879, 150) (19617, 150)\n"
          ],
          "name": "stdout"
        }
      ]
    },
    {
      "cell_type": "code",
      "metadata": {
        "colab": {
          "base_uri": "https://localhost:8080/"
        },
        "id": "k84TG7tTQ-ES",
        "outputId": "fcaa3a96-a7ba-4089-ed93-eabe7f76e8be"
      },
      "source": [
        "# 종속변수 데이터 전처리\n",
        "train_y = np_utils.to_categorical(Y_train) # Y_train 에 원-핫 인코딩\n",
        "print(train_y)\n",
        "print(train_y.shape)"
      ],
      "execution_count": 26,
      "outputs": [
        {
          "output_type": "stream",
          "text": [
            "[[0. 0. 0. 1. 0.]\n",
            " [0. 0. 1. 0. 0.]\n",
            " [0. 1. 0. 0. 0.]\n",
            " ...\n",
            " [0. 1. 0. 0. 0.]\n",
            " [0. 0. 0. 1. 0.]\n",
            " [1. 0. 0. 0. 0.]]\n",
            "(54879, 5)\n"
          ],
          "name": "stdout"
        }
      ]
    },
    {
      "cell_type": "code",
      "metadata": {
        "id": "PXHsXzkqQ-KR"
      },
      "source": [
        "#파라미터 설정\n",
        "vocab_size = 2000 # 제일 많이 사용하는 사이즈\n",
        "embedding_dim = 200  \n",
        "max_length = 111    # 위에서 그래프 확인 후 정함\n",
        "padding_type='post'\n",
        "#oov_tok = \"<OOV>\""
      ],
      "execution_count": 27,
      "outputs": []
    },
    {
      "cell_type": "code",
      "metadata": {
        "colab": {
          "base_uri": "https://localhost:8080/"
        },
        "id": "7O-mzDW4Q-Sy",
        "outputId": "2cc1e0de-9735-42e2-c752-fefa2f0f390d"
      },
      "source": [
        "# 양방향 LSTM 레이어를 사용한 모델 (model) 정의\n",
        "model = Sequential([Embedding(vocab_size, embedding_dim, input_length =max_length),\n",
        "        tf.keras.layers.Bidirectional(LSTM(units = 64, return_sequences = True)),\n",
        "        tf.keras.layers.Bidirectional(LSTM(units = 64, return_sequences = True)),\n",
        "        tf.keras.layers.Bidirectional(LSTM(units = 64)),\n",
        "        Dense(5, activation='softmax')    # 결과값이 0~4 이므로 Dense(5)\n",
        "    ])\n",
        "    \n",
        "model.compile(loss= 'categorical_crossentropy', #여러개 정답 중 하나 맞추는 문제이므로 손실 함수는 categorical_crossentropy\n",
        "              optimizer= 'adam',\n",
        "              metrics = ['accuracy']) \n",
        "model.summary()\n",
        "\n",
        "# 조기 종료 옵션 추가\n",
        "es = EarlyStopping(monitor='val_loss', min_delta=0.0001, patience=3,\n",
        "                   verbose=1, mode='min', baseline=None, restore_best_weights=True)\n"
      ],
      "execution_count": 32,
      "outputs": [
        {
          "output_type": "stream",
          "text": [
            "Model: \"sequential_1\"\n",
            "_________________________________________________________________\n",
            "Layer (type)                 Output Shape              Param #   \n",
            "=================================================================\n",
            "embedding_1 (Embedding)      (None, 150, 200)          400000    \n",
            "_________________________________________________________________\n",
            "bidirectional_3 (Bidirection (None, 150, 128)          135680    \n",
            "_________________________________________________________________\n",
            "bidirectional_4 (Bidirection (None, 150, 128)          98816     \n",
            "_________________________________________________________________\n",
            "bidirectional_5 (Bidirection (None, 128)               98816     \n",
            "_________________________________________________________________\n",
            "dense_1 (Dense)              (None, 5)                 645       \n",
            "=================================================================\n",
            "Total params: 733,957\n",
            "Trainable params: 733,957\n",
            "Non-trainable params: 0\n",
            "_________________________________________________________________\n"
          ],
          "name": "stdout"
        }
      ]
    },
    {
      "cell_type": "code",
      "metadata": {
        "colab": {
          "base_uri": "https://localhost:8080/"
        },
        "id": "kHKF9urqQ-bb",
        "outputId": "2a32bcfe-4342-41c6-f1e9-284fec991a2a"
      },
      "source": [
        "# 모델 실행해보기\n",
        "history = model.fit(train_x, train_y, epochs=50, batch_size=100, validation_split= 0.2) \n",
        "  # 양방향 LSTM 레이어에서는 batch size 를 100으로 잡고 50회 학습 해보았다."
      ],
      "execution_count": 34,
      "outputs": [
        {
          "output_type": "stream",
          "text": [
            "Epoch 1/50\n",
            "440/440 [==============================] - 24s 54ms/step - loss: 0.7654 - accuracy: 0.7078 - val_loss: 0.9130 - val_accuracy: 0.6561\n",
            "Epoch 2/50\n",
            "440/440 [==============================] - 24s 55ms/step - loss: 0.7359 - accuracy: 0.7163 - val_loss: 0.9052 - val_accuracy: 0.6577\n",
            "Epoch 3/50\n",
            "440/440 [==============================] - 24s 54ms/step - loss: 0.7155 - accuracy: 0.7246 - val_loss: 0.9202 - val_accuracy: 0.6573\n",
            "Epoch 4/50\n",
            "440/440 [==============================] - 24s 54ms/step - loss: 0.6795 - accuracy: 0.7388 - val_loss: 0.9585 - val_accuracy: 0.6541\n",
            "Epoch 5/50\n",
            "440/440 [==============================] - 24s 54ms/step - loss: 0.6530 - accuracy: 0.7470 - val_loss: 0.9713 - val_accuracy: 0.6564\n",
            "Epoch 6/50\n",
            "440/440 [==============================] - 24s 54ms/step - loss: 0.6286 - accuracy: 0.7575 - val_loss: 0.9952 - val_accuracy: 0.6461\n",
            "Epoch 7/50\n",
            "440/440 [==============================] - 24s 54ms/step - loss: 0.6004 - accuracy: 0.7687 - val_loss: 1.0326 - val_accuracy: 0.6439\n",
            "Epoch 8/50\n",
            "440/440 [==============================] - 24s 54ms/step - loss: 0.5711 - accuracy: 0.7789 - val_loss: 1.0828 - val_accuracy: 0.6419\n",
            "Epoch 9/50\n",
            "440/440 [==============================] - 24s 54ms/step - loss: 0.5376 - accuracy: 0.7924 - val_loss: 1.1221 - val_accuracy: 0.6460\n",
            "Epoch 10/50\n",
            "440/440 [==============================] - 24s 54ms/step - loss: 0.5037 - accuracy: 0.8050 - val_loss: 1.2125 - val_accuracy: 0.6388\n",
            "Epoch 11/50\n",
            "440/440 [==============================] - 23s 53ms/step - loss: 0.4792 - accuracy: 0.8161 - val_loss: 1.2851 - val_accuracy: 0.6328\n",
            "Epoch 12/50\n",
            "440/440 [==============================] - 23s 53ms/step - loss: 0.4579 - accuracy: 0.8236 - val_loss: 1.3238 - val_accuracy: 0.6320\n",
            "Epoch 13/50\n",
            "440/440 [==============================] - 24s 54ms/step - loss: 0.4260 - accuracy: 0.8366 - val_loss: 1.3679 - val_accuracy: 0.6321\n",
            "Epoch 14/50\n",
            "440/440 [==============================] - 24s 54ms/step - loss: 0.3924 - accuracy: 0.8472 - val_loss: 1.5104 - val_accuracy: 0.6314\n",
            "Epoch 15/50\n",
            "440/440 [==============================] - 24s 54ms/step - loss: 0.3713 - accuracy: 0.8572 - val_loss: 1.5332 - val_accuracy: 0.6291\n",
            "Epoch 16/50\n",
            "440/440 [==============================] - 24s 54ms/step - loss: 0.3507 - accuracy: 0.8643 - val_loss: 1.6022 - val_accuracy: 0.6219\n",
            "Epoch 17/50\n",
            "440/440 [==============================] - 24s 54ms/step - loss: 0.3221 - accuracy: 0.8751 - val_loss: 1.7040 - val_accuracy: 0.6268\n",
            "Epoch 18/50\n",
            "440/440 [==============================] - 24s 54ms/step - loss: 0.3120 - accuracy: 0.8801 - val_loss: 1.7383 - val_accuracy: 0.6264\n",
            "Epoch 19/50\n",
            "440/440 [==============================] - 24s 54ms/step - loss: 0.2935 - accuracy: 0.8851 - val_loss: 1.8183 - val_accuracy: 0.6269\n",
            "Epoch 20/50\n",
            "440/440 [==============================] - 23s 53ms/step - loss: 0.2698 - accuracy: 0.8966 - val_loss: 1.9216 - val_accuracy: 0.6245\n",
            "Epoch 21/50\n",
            "440/440 [==============================] - 23s 53ms/step - loss: 0.2479 - accuracy: 0.9046 - val_loss: 1.9609 - val_accuracy: 0.6206\n",
            "Epoch 22/50\n",
            "440/440 [==============================] - 24s 54ms/step - loss: 0.2365 - accuracy: 0.9082 - val_loss: 2.0820 - val_accuracy: 0.6198\n",
            "Epoch 23/50\n",
            "440/440 [==============================] - 24s 55ms/step - loss: 0.2300 - accuracy: 0.9129 - val_loss: 2.0608 - val_accuracy: 0.6192\n",
            "Epoch 24/50\n",
            "440/440 [==============================] - 24s 55ms/step - loss: 0.2208 - accuracy: 0.9158 - val_loss: 2.1355 - val_accuracy: 0.6163\n",
            "Epoch 25/50\n",
            "440/440 [==============================] - 24s 56ms/step - loss: 0.2002 - accuracy: 0.9229 - val_loss: 2.2902 - val_accuracy: 0.6166\n",
            "Epoch 26/50\n",
            "440/440 [==============================] - 24s 55ms/step - loss: 0.1933 - accuracy: 0.9245 - val_loss: 2.3240 - val_accuracy: 0.6163\n",
            "Epoch 27/50\n",
            "440/440 [==============================] - 24s 54ms/step - loss: 0.1874 - accuracy: 0.9274 - val_loss: 2.3565 - val_accuracy: 0.6132\n",
            "Epoch 28/50\n",
            "440/440 [==============================] - 24s 54ms/step - loss: 0.1715 - accuracy: 0.9345 - val_loss: 2.4119 - val_accuracy: 0.6122\n",
            "Epoch 29/50\n",
            "440/440 [==============================] - 24s 55ms/step - loss: 0.1693 - accuracy: 0.9354 - val_loss: 2.4164 - val_accuracy: 0.6176\n",
            "Epoch 30/50\n",
            "440/440 [==============================] - 24s 55ms/step - loss: 0.1547 - accuracy: 0.9426 - val_loss: 2.4585 - val_accuracy: 0.6157\n",
            "Epoch 31/50\n",
            "440/440 [==============================] - 24s 54ms/step - loss: 0.1431 - accuracy: 0.9457 - val_loss: 2.6055 - val_accuracy: 0.6181\n",
            "Epoch 32/50\n",
            "440/440 [==============================] - 24s 53ms/step - loss: 0.1459 - accuracy: 0.9454 - val_loss: 2.5306 - val_accuracy: 0.6137\n",
            "Epoch 33/50\n",
            "440/440 [==============================] - 23s 53ms/step - loss: 0.1405 - accuracy: 0.9475 - val_loss: 2.5563 - val_accuracy: 0.6165\n",
            "Epoch 34/50\n",
            "440/440 [==============================] - 24s 54ms/step - loss: 0.1286 - accuracy: 0.9525 - val_loss: 2.6650 - val_accuracy: 0.6136\n",
            "Epoch 35/50\n",
            "440/440 [==============================] - 24s 54ms/step - loss: 0.1336 - accuracy: 0.9504 - val_loss: 2.6227 - val_accuracy: 0.6112\n",
            "Epoch 36/50\n",
            "440/440 [==============================] - 23s 53ms/step - loss: 0.1216 - accuracy: 0.9534 - val_loss: 2.7578 - val_accuracy: 0.6131\n",
            "Epoch 37/50\n",
            "440/440 [==============================] - 24s 54ms/step - loss: 0.1154 - accuracy: 0.9573 - val_loss: 2.8323 - val_accuracy: 0.6130\n",
            "Epoch 38/50\n",
            "440/440 [==============================] - 24s 54ms/step - loss: 0.1132 - accuracy: 0.9580 - val_loss: 2.7735 - val_accuracy: 0.6154\n",
            "Epoch 39/50\n",
            "440/440 [==============================] - 23s 53ms/step - loss: 0.1045 - accuracy: 0.9612 - val_loss: 2.8638 - val_accuracy: 0.6138\n",
            "Epoch 40/50\n",
            "440/440 [==============================] - 23s 53ms/step - loss: 0.0960 - accuracy: 0.9638 - val_loss: 2.9523 - val_accuracy: 0.6089\n",
            "Epoch 41/50\n",
            "440/440 [==============================] - 24s 54ms/step - loss: 0.0954 - accuracy: 0.9640 - val_loss: 2.9677 - val_accuracy: 0.6118\n",
            "Epoch 42/50\n",
            "440/440 [==============================] - 23s 53ms/step - loss: 0.1045 - accuracy: 0.9613 - val_loss: 2.8338 - val_accuracy: 0.6149\n",
            "Epoch 43/50\n",
            "440/440 [==============================] - 23s 53ms/step - loss: 0.0935 - accuracy: 0.9650 - val_loss: 2.9816 - val_accuracy: 0.6107\n",
            "Epoch 44/50\n",
            "440/440 [==============================] - 24s 53ms/step - loss: 0.1035 - accuracy: 0.9621 - val_loss: 2.9231 - val_accuracy: 0.6132\n",
            "Epoch 45/50\n",
            "440/440 [==============================] - 23s 53ms/step - loss: 0.0839 - accuracy: 0.9681 - val_loss: 3.0827 - val_accuracy: 0.6124\n",
            "Epoch 46/50\n",
            "440/440 [==============================] - 23s 53ms/step - loss: 0.0764 - accuracy: 0.9712 - val_loss: 3.1281 - val_accuracy: 0.6092\n",
            "Epoch 47/50\n",
            "440/440 [==============================] - 24s 54ms/step - loss: 0.0817 - accuracy: 0.9690 - val_loss: 3.1829 - val_accuracy: 0.6126\n",
            "Epoch 48/50\n",
            "440/440 [==============================] - 23s 53ms/step - loss: 0.0787 - accuracy: 0.9701 - val_loss: 3.1032 - val_accuracy: 0.6099\n",
            "Epoch 49/50\n",
            "440/440 [==============================] - 23s 53ms/step - loss: 0.0871 - accuracy: 0.9672 - val_loss: 3.0467 - val_accuracy: 0.6094\n",
            "Epoch 50/50\n",
            "440/440 [==============================] - 23s 53ms/step - loss: 0.0829 - accuracy: 0.9697 - val_loss: 3.0302 - val_accuracy: 0.6081\n"
          ],
          "name": "stdout"
        }
      ]
    },
    {
      "cell_type": "code",
      "metadata": {
        "colab": {
          "base_uri": "https://localhost:8080/",
          "height": 316
        },
        "id": "vXHglFiDQ-j6",
        "outputId": "90427c4e-33cb-4e2a-8dab-8bb001d65529"
      },
      "source": [
        "# 모델 학습 결과 확인\n",
        "plt.figure(figsize=(12, 4))\n",
        "\n",
        "plt.subplot(1, 2, 1)\n",
        "plt.title('loss of Bidirectional LSTM (model) ', fontsize= 15)\n",
        "plt.plot(history.history['loss'], 'b-', label='loss')\n",
        "plt.plot(history.history['val_loss'],'r--', label='val_loss')\n",
        "plt.xlabel('Epoch')\n",
        "plt.legend()\n",
        "\n",
        "plt.subplot(1, 2, 2)\n",
        "plt.title('accuracy of Bidirectional LSTM (model) ', fontsize= 15)\n",
        "plt.plot(history.history['accuracy'], 'g-', label='accuracy')\n",
        "plt.plot(history.history['val_accuracy'],'k--', label='val_accuracy')\n",
        "plt.xlabel('Epoch')\n",
        "plt.legend()\n",
        "plt.show"
      ],
      "execution_count": 35,
      "outputs": [
        {
          "output_type": "execute_result",
          "data": {
            "text/plain": [
              "<function matplotlib.pyplot.show>"
            ]
          },
          "metadata": {
            "tags": []
          },
          "execution_count": 35
        },
        {
          "output_type": "display_data",
          "data": {
            "image/png": "[encoded data removed]",
            "text/plain": [
              "<Figure size 864x288 with 2 Axes>"
            ]
          },
          "metadata": {
            "tags": [],
            "needs_background": "light"
          }
        }
      ]
    },
    {
      "cell_type": "code",
      "metadata": {
        "colab": {
          "base_uri": "https://localhost:8080/"
        },
        "id": "omAWpZIcjZM3",
        "outputId": "20bad33e-6924-4ce7-b8a2-21495d42bd12"
      },
      "source": [
        "# 계층 교차 검증\n",
        "n_fold = 5  \n",
        "seed = 42\n",
        "\n",
        "cv = StratifiedKFold(n_splits = n_fold, shuffle=True, random_state=seed)\n",
        "test_y = np.zeros((test_x.shape[0], 5))\n",
        "# 조기 종료 옵션 추가\n",
        "es = EarlyStopping(monitor='val_loss', min_delta=0.001, patience=3,\n",
        "                   verbose=1, mode='min', baseline=None, restore_best_weights=True)\n",
        "\n",
        "for i, (i_trn, i_val) in enumerate(cv.split(train_x, Y_train), 1):\n",
        "    print(f'training model for CV #{i}')\n",
        "\n",
        "    model.fit(train_x[i_trn], \n",
        "            to_categorical(Y_train[i_trn]),\n",
        "            validation_data=(train_x[i_val], to_categorical(Y_train[i_val])),\n",
        "            epochs=10,\n",
        "            batch_size=512)\n",
        "for i, (i_trn, i_val) in enumerate(cv.split(train_x, Y_train), 1):\n",
        "    print(f'training model for CV #{i}')\n",
        "\n",
        "    model.fit(train_x[i_trn], \n",
        "            to_categorical(Y_train[i_trn]),\n",
        "            validation_data=(train_x[i_val], to_categorical(Y_train[i_val])),\n",
        "            epochs=10,\n",
        "            batch_size=512,\n",
        "            callbacks=[es])     # 조기 종료 옵션\n",
        "                      \n",
        "    test_y += model.predict(test_x) / n_fold    # 나온 예측값들을 교차 검증 횟수로 나눈다"
      ],
      "execution_count": 41,
      "outputs": [
        {
          "output_type": "stream",
          "text": [
            "training model for CV #1\n",
            "Epoch 1/10\n",
            "86/86 [==============================] - 12s 140ms/step - loss: 0.0502 - accuracy: 0.9794 - val_loss: 0.0550 - val_accuracy: 0.9773\n",
            "Epoch 2/10\n",
            "86/86 [==============================] - 12s 141ms/step - loss: 0.0443 - accuracy: 0.9816 - val_loss: 0.0575 - val_accuracy: 0.9775\n",
            "Epoch 3/10\n",
            "86/86 [==============================] - 12s 140ms/step - loss: 0.0408 - accuracy: 0.9823 - val_loss: 0.0610 - val_accuracy: 0.9761\n",
            "Epoch 4/10\n",
            "86/86 [==============================] - 12s 140ms/step - loss: 0.0387 - accuracy: 0.9829 - val_loss: 0.0618 - val_accuracy: 0.9756\n",
            "Epoch 5/10\n",
            "86/86 [==============================] - 12s 139ms/step - loss: 0.0379 - accuracy: 0.9827 - val_loss: 0.0634 - val_accuracy: 0.9758\n",
            "Epoch 6/10\n",
            "86/86 [==============================] - 12s 139ms/step - loss: 0.0370 - accuracy: 0.9833 - val_loss: 0.0619 - val_accuracy: 0.9757\n",
            "Epoch 7/10\n",
            "86/86 [==============================] - 12s 139ms/step - loss: 0.0364 - accuracy: 0.9828 - val_loss: 0.0640 - val_accuracy: 0.9746\n",
            "Epoch 8/10\n",
            "86/86 [==============================] - 12s 139ms/step - loss: 0.0364 - accuracy: 0.9834 - val_loss: 0.0646 - val_accuracy: 0.9756\n",
            "Epoch 9/10\n",
            "86/86 [==============================] - 12s 140ms/step - loss: 0.0360 - accuracy: 0.9831 - val_loss: 0.0652 - val_accuracy: 0.9758\n",
            "Epoch 10/10\n",
            "86/86 [==============================] - 12s 140ms/step - loss: 0.0358 - accuracy: 0.9831 - val_loss: 0.0658 - val_accuracy: 0.9760\n",
            "training model for CV #2\n",
            "Epoch 1/10\n",
            "86/86 [==============================] - 12s 140ms/step - loss: 0.0437 - accuracy: 0.9821 - val_loss: 0.0427 - val_accuracy: 0.9805\n",
            "Epoch 2/10\n",
            "86/86 [==============================] - 12s 139ms/step - loss: 0.0424 - accuracy: 0.9822 - val_loss: 0.0540 - val_accuracy: 0.9769\n",
            "Epoch 3/10\n",
            "86/86 [==============================] - 12s 139ms/step - loss: 0.0480 - accuracy: 0.9796 - val_loss: 0.0632 - val_accuracy: 0.9743\n",
            "Epoch 4/10\n",
            "86/86 [==============================] - 12s 139ms/step - loss: 0.0560 - accuracy: 0.9778 - val_loss: 0.0822 - val_accuracy: 0.9687\n",
            "Epoch 5/10\n",
            "86/86 [==============================] - 12s 139ms/step - loss: 0.0548 - accuracy: 0.9792 - val_loss: 0.0897 - val_accuracy: 0.9665\n",
            "Epoch 6/10\n",
            "86/86 [==============================] - 12s 139ms/step - loss: 0.0473 - accuracy: 0.9800 - val_loss: 0.0955 - val_accuracy: 0.9648\n",
            "Epoch 7/10\n",
            "86/86 [==============================] - 12s 139ms/step - loss: 0.0429 - accuracy: 0.9821 - val_loss: 0.0980 - val_accuracy: 0.9650\n",
            "Epoch 8/10\n",
            "86/86 [==============================] - 12s 139ms/step - loss: 0.0385 - accuracy: 0.9829 - val_loss: 0.0933 - val_accuracy: 0.9670\n",
            "Epoch 9/10\n",
            "86/86 [==============================] - 12s 139ms/step - loss: 0.0359 - accuracy: 0.9835 - val_loss: 0.0925 - val_accuracy: 0.9681\n",
            "Epoch 10/10\n",
            "86/86 [==============================] - 12s 139ms/step - loss: 0.0350 - accuracy: 0.9839 - val_loss: 0.0944 - val_accuracy: 0.9671\n",
            "training model for CV #3\n",
            "Epoch 1/10\n",
            "86/86 [==============================] - 12s 140ms/step - loss: 0.0565 - accuracy: 0.9785 - val_loss: 0.0486 - val_accuracy: 0.9794\n",
            "Epoch 2/10\n",
            "86/86 [==============================] - 12s 139ms/step - loss: 0.0535 - accuracy: 0.9784 - val_loss: 0.0636 - val_accuracy: 0.9759\n",
            "Epoch 3/10\n",
            "86/86 [==============================] - 12s 139ms/step - loss: 0.0507 - accuracy: 0.9788 - val_loss: 0.0682 - val_accuracy: 0.9739\n",
            "Epoch 4/10\n",
            "86/86 [==============================] - 12s 138ms/step - loss: 0.0463 - accuracy: 0.9805 - val_loss: 0.0687 - val_accuracy: 0.9734\n",
            "Epoch 5/10\n",
            "86/86 [==============================] - 12s 138ms/step - loss: 0.0419 - accuracy: 0.9818 - val_loss: 0.0709 - val_accuracy: 0.9729\n",
            "Epoch 6/10\n",
            "86/86 [==============================] - 12s 138ms/step - loss: 0.0389 - accuracy: 0.9827 - val_loss: 0.0694 - val_accuracy: 0.9745\n",
            "Epoch 7/10\n",
            "86/86 [==============================] - 12s 138ms/step - loss: 0.0363 - accuracy: 0.9836 - val_loss: 0.0697 - val_accuracy: 0.9746\n",
            "Epoch 8/10\n",
            "86/86 [==============================] - 12s 138ms/step - loss: 0.0353 - accuracy: 0.9836 - val_loss: 0.0712 - val_accuracy: 0.9736\n",
            "Epoch 9/10\n",
            "86/86 [==============================] - 12s 138ms/step - loss: 0.0351 - accuracy: 0.9836 - val_loss: 0.0719 - val_accuracy: 0.9744\n",
            "Epoch 10/10\n",
            "86/86 [==============================] - 12s 137ms/step - loss: 0.0348 - accuracy: 0.9831 - val_loss: 0.0726 - val_accuracy: 0.9745\n",
            "training model for CV #4\n",
            "Epoch 1/10\n",
            "86/86 [==============================] - 12s 138ms/step - loss: 0.0478 - accuracy: 0.9807 - val_loss: 0.0466 - val_accuracy: 0.9802\n",
            "Epoch 2/10\n",
            "86/86 [==============================] - 12s 138ms/step - loss: 0.0434 - accuracy: 0.9813 - val_loss: 0.0497 - val_accuracy: 0.9788\n",
            "Epoch 3/10\n",
            "86/86 [==============================] - 12s 137ms/step - loss: 0.0384 - accuracy: 0.9835 - val_loss: 0.0525 - val_accuracy: 0.9780\n",
            "Epoch 4/10\n",
            "86/86 [==============================] - 12s 138ms/step - loss: 0.0364 - accuracy: 0.9837 - val_loss: 0.0548 - val_accuracy: 0.9772\n",
            "Epoch 5/10\n",
            "86/86 [==============================] - 12s 138ms/step - loss: 0.0349 - accuracy: 0.9832 - val_loss: 0.0565 - val_accuracy: 0.9771\n",
            "Epoch 6/10\n",
            "86/86 [==============================] - 12s 138ms/step - loss: 0.0347 - accuracy: 0.9837 - val_loss: 0.0578 - val_accuracy: 0.9765\n",
            "Epoch 7/10\n",
            "86/86 [==============================] - 12s 138ms/step - loss: 0.0345 - accuracy: 0.9836 - val_loss: 0.0586 - val_accuracy: 0.9770\n",
            "Epoch 8/10\n",
            "86/86 [==============================] - 12s 138ms/step - loss: 0.0345 - accuracy: 0.9836 - val_loss: 0.0609 - val_accuracy: 0.9762\n",
            "Epoch 9/10\n",
            "86/86 [==============================] - 12s 138ms/step - loss: 0.0340 - accuracy: 0.9837 - val_loss: 0.0622 - val_accuracy: 0.9766\n",
            "Epoch 10/10\n",
            "86/86 [==============================] - 12s 139ms/step - loss: 0.0340 - accuracy: 0.9833 - val_loss: 0.0625 - val_accuracy: 0.9769\n",
            "training model for CV #5\n",
            "Epoch 1/10\n",
            "86/86 [==============================] - 12s 139ms/step - loss: 0.0421 - accuracy: 0.9820 - val_loss: 0.0372 - val_accuracy: 0.9824\n",
            "Epoch 2/10\n",
            "86/86 [==============================] - 12s 139ms/step - loss: 0.0398 - accuracy: 0.9823 - val_loss: 0.0434 - val_accuracy: 0.9797\n",
            "Epoch 3/10\n",
            "86/86 [==============================] - 12s 139ms/step - loss: 0.0441 - accuracy: 0.9819 - val_loss: 0.0573 - val_accuracy: 0.9769\n",
            "Epoch 4/10\n",
            "86/86 [==============================] - 12s 140ms/step - loss: 0.0533 - accuracy: 0.9792 - val_loss: 0.0728 - val_accuracy: 0.9717\n",
            "Epoch 5/10\n",
            "86/86 [==============================] - 12s 139ms/step - loss: 0.0638 - accuracy: 0.9757 - val_loss: 0.1024 - val_accuracy: 0.9649\n",
            "Epoch 6/10\n",
            "86/86 [==============================] - 12s 140ms/step - loss: 0.0594 - accuracy: 0.9774 - val_loss: 0.1067 - val_accuracy: 0.9629\n",
            "Epoch 7/10\n",
            "86/86 [==============================] - 12s 139ms/step - loss: 0.0513 - accuracy: 0.9793 - val_loss: 0.1121 - val_accuracy: 0.9605\n",
            "Epoch 8/10\n",
            "86/86 [==============================] - 12s 140ms/step - loss: 0.0478 - accuracy: 0.9807 - val_loss: 0.1074 - val_accuracy: 0.9615\n",
            "Epoch 9/10\n",
            "86/86 [==============================] - 12s 139ms/step - loss: 0.0394 - accuracy: 0.9828 - val_loss: 0.1105 - val_accuracy: 0.9626\n",
            "Epoch 10/10\n",
            "86/86 [==============================] - 12s 140ms/step - loss: 0.0368 - accuracy: 0.9833 - val_loss: 0.1066 - val_accuracy: 0.9636\n",
            "training model for CV #1\n",
            "Epoch 1/10\n",
            "86/86 [==============================] - 12s 140ms/step - loss: 0.0602 - accuracy: 0.9770 - val_loss: 0.0433 - val_accuracy: 0.9821\n",
            "Epoch 2/10\n",
            "86/86 [==============================] - 12s 139ms/step - loss: 0.0473 - accuracy: 0.9806 - val_loss: 0.0478 - val_accuracy: 0.9805\n",
            "Epoch 3/10\n",
            "86/86 [==============================] - 12s 139ms/step - loss: 0.0390 - accuracy: 0.9827 - val_loss: 0.0479 - val_accuracy: 0.9792\n",
            "Epoch 4/10\n",
            "86/86 [==============================] - 12s 140ms/step - loss: 0.0363 - accuracy: 0.9834 - val_loss: 0.0503 - val_accuracy: 0.9786\n",
            "Restoring model weights from the end of the best epoch.\n",
            "Epoch 00004: early stopping\n",
            "training model for CV #2\n",
            "Epoch 1/10\n",
            "86/86 [==============================] - 12s 141ms/step - loss: 0.0464 - accuracy: 0.9811 - val_loss: 0.0471 - val_accuracy: 0.9790\n",
            "Epoch 2/10\n",
            "86/86 [==============================] - 12s 140ms/step - loss: 0.0418 - accuracy: 0.9824 - val_loss: 0.0482 - val_accuracy: 0.9777\n",
            "Epoch 3/10\n",
            "86/86 [==============================] - 12s 140ms/step - loss: 0.0376 - accuracy: 0.9835 - val_loss: 0.0503 - val_accuracy: 0.9769\n",
            "Epoch 4/10\n",
            "86/86 [==============================] - 12s 139ms/step - loss: 0.0360 - accuracy: 0.9836 - val_loss: 0.0525 - val_accuracy: 0.9770\n",
            "Restoring model weights from the end of the best epoch.\n",
            "Epoch 00004: early stopping\n",
            "training model for CV #3\n",
            "Epoch 1/10\n",
            "86/86 [==============================] - 12s 139ms/step - loss: 0.0430 - accuracy: 0.9812 - val_loss: 0.0396 - val_accuracy: 0.9826\n",
            "Epoch 2/10\n",
            "86/86 [==============================] - 12s 140ms/step - loss: 0.0383 - accuracy: 0.9828 - val_loss: 0.0423 - val_accuracy: 0.9811\n",
            "Epoch 3/10\n",
            "86/86 [==============================] - 12s 140ms/step - loss: 0.0361 - accuracy: 0.9829 - val_loss: 0.0466 - val_accuracy: 0.9803\n",
            "Epoch 4/10\n",
            "86/86 [==============================] - 12s 140ms/step - loss: 0.0356 - accuracy: 0.9830 - val_loss: 0.0473 - val_accuracy: 0.9792\n",
            "Restoring model weights from the end of the best epoch.\n",
            "Epoch 00004: early stopping\n",
            "training model for CV #4\n",
            "Epoch 1/10\n",
            "86/86 [==============================] - 12s 140ms/step - loss: 0.0396 - accuracy: 0.9825 - val_loss: 0.0435 - val_accuracy: 0.9802\n",
            "Epoch 2/10\n",
            "86/86 [==============================] - 12s 140ms/step - loss: 0.0375 - accuracy: 0.9829 - val_loss: 0.0497 - val_accuracy: 0.9785\n",
            "Epoch 3/10\n",
            "86/86 [==============================] - 12s 140ms/step - loss: 0.0363 - accuracy: 0.9831 - val_loss: 0.0517 - val_accuracy: 0.9784\n",
            "Epoch 4/10\n",
            "86/86 [==============================] - 12s 140ms/step - loss: 0.0353 - accuracy: 0.9836 - val_loss: 0.0550 - val_accuracy: 0.9782\n",
            "Restoring model weights from the end of the best epoch.\n",
            "Epoch 00004: early stopping\n",
            "training model for CV #5\n",
            "Epoch 1/10\n",
            "86/86 [==============================] - 12s 141ms/step - loss: 0.0393 - accuracy: 0.9820 - val_loss: 0.0438 - val_accuracy: 0.9805\n",
            "Epoch 2/10\n",
            "86/86 [==============================] - 12s 140ms/step - loss: 0.0373 - accuracy: 0.9830 - val_loss: 0.0483 - val_accuracy: 0.9795\n",
            "Epoch 3/10\n",
            "86/86 [==============================] - 12s 140ms/step - loss: 0.0366 - accuracy: 0.9833 - val_loss: 0.0513 - val_accuracy: 0.9790\n",
            "Epoch 4/10\n",
            "86/86 [==============================] - 12s 141ms/step - loss: 0.0353 - accuracy: 0.9831 - val_loss: 0.0522 - val_accuracy: 0.9785\n",
            "Restoring model weights from the end of the best epoch.\n",
            "Epoch 00004: early stopping\n"
          ],
          "name": "stdout"
        }
      ]
    },
    {
      "cell_type": "code",
      "metadata": {
        "colab": {
          "base_uri": "https://localhost:8080/"
        },
        "id": "5VnLMSp8kNtK",
        "outputId": "83d11e35-c937-4dc3-8589-4f3d60e08aeb"
      },
      "source": [
        "test_y"
      ],
      "execution_count": 87,
      "outputs": [
        {
          "output_type": "execute_result",
          "data": {
            "text/plain": [
              "array([[6.14608522e-09, 1.00000001e+00, 2.15317573e-09, 1.06448927e-08,\n",
              "        2.65213479e-09],\n",
              "       [2.19132604e-01, 7.80863483e-01, 2.30145932e-08, 1.58456188e-08,\n",
              "        3.87785046e-06],\n",
              "       [5.87119609e-01, 3.42156135e-01, 3.82285014e-04, 6.38892434e-02,\n",
              "        6.45267725e-03],\n",
              "       ...,\n",
              "       [7.50552515e-05, 9.99924675e-01, 1.25718052e-08, 2.06157574e-07,\n",
              "        4.13831090e-09],\n",
              "       [9.16805925e-05, 9.99876410e-01, 8.76727022e-07, 3.09240025e-05,\n",
              "        1.70663273e-07],\n",
              "       [9.99997839e-01, 4.67225641e-07, 1.34422439e-06, 2.73997227e-07,\n",
              "        1.09696273e-07]])"
            ]
          },
          "metadata": {
            "tags": []
          },
          "execution_count": 87
        }
      ]
    },
    {
      "cell_type": "code",
      "metadata": {
        "colab": {
          "base_uri": "https://localhost:8080/",
          "height": 202
        },
        "id": "CsaJvB2KwUlI",
        "outputId": "034aa47d-6916-4662-a36b-84216e3747ec"
      },
      "source": [
        "sample_submission = pd.DataFrame(test_y)\n",
        "sample_submission.head()"
      ],
      "execution_count": 80,
      "outputs": [
        {
          "output_type": "execute_result",
          "data": {
            "text/html": [
              "<div>\n",
              "<style scoped>\n",
              "    .dataframe tbody tr th:only-of-type {\n",
              "        vertical-align: middle;\n",
              "    }\n",
              "\n",
              "    .dataframe tbody tr th {\n",
              "        vertical-align: top;\n",
              "    }\n",
              "\n",
              "    .dataframe thead th {\n",
              "        text-align: right;\n",
              "    }\n",
              "</style>\n",
              "<table border=\"1\" class=\"dataframe\">\n",
              "  <thead>\n",
              "    <tr style=\"text-align: right;\">\n",
              "      <th></th>\n",
              "      <th>0</th>\n",
              "      <th>1</th>\n",
              "      <th>2</th>\n",
              "      <th>3</th>\n",
              "      <th>4</th>\n",
              "    </tr>\n",
              "  </thead>\n",
              "  <tbody>\n",
              "    <tr>\n",
              "      <th>0</th>\n",
              "      <td>6.146085e-09</td>\n",
              "      <td>1.000000</td>\n",
              "      <td>2.153176e-09</td>\n",
              "      <td>1.064489e-08</td>\n",
              "      <td>2.652135e-09</td>\n",
              "    </tr>\n",
              "    <tr>\n",
              "      <th>1</th>\n",
              "      <td>2.191326e-01</td>\n",
              "      <td>0.780863</td>\n",
              "      <td>2.301459e-08</td>\n",
              "      <td>1.584562e-08</td>\n",
              "      <td>3.877850e-06</td>\n",
              "    </tr>\n",
              "    <tr>\n",
              "      <th>2</th>\n",
              "      <td>5.871196e-01</td>\n",
              "      <td>0.342156</td>\n",
              "      <td>3.822850e-04</td>\n",
              "      <td>6.388924e-02</td>\n",
              "      <td>6.452677e-03</td>\n",
              "    </tr>\n",
              "    <tr>\n",
              "      <th>3</th>\n",
              "      <td>7.302752e-04</td>\n",
              "      <td>0.000003</td>\n",
              "      <td>9.990910e-01</td>\n",
              "      <td>3.802957e-05</td>\n",
              "      <td>1.375391e-04</td>\n",
              "    </tr>\n",
              "    <tr>\n",
              "      <th>4</th>\n",
              "      <td>8.945480e-01</td>\n",
              "      <td>0.000067</td>\n",
              "      <td>3.951922e-03</td>\n",
              "      <td>6.121074e-04</td>\n",
              "      <td>1.008208e-01</td>\n",
              "    </tr>\n",
              "  </tbody>\n",
              "</table>\n",
              "</div>"
            ],
            "text/plain": [
              "              0         1             2             3             4\n",
              "0  6.146085e-09  1.000000  2.153176e-09  1.064489e-08  2.652135e-09\n",
              "1  2.191326e-01  0.780863  2.301459e-08  1.584562e-08  3.877850e-06\n",
              "2  5.871196e-01  0.342156  3.822850e-04  6.388924e-02  6.452677e-03\n",
              "3  7.302752e-04  0.000003  9.990910e-01  3.802957e-05  1.375391e-04\n",
              "4  8.945480e-01  0.000067  3.951922e-03  6.121074e-04  1.008208e-01"
            ]
          },
          "metadata": {
            "tags": []
          },
          "execution_count": 80
        }
      ]
    },
    {
      "cell_type": "code",
      "metadata": {
        "id": "-Ajq-W6908-u"
      },
      "source": [
        "sample_submission[\"target\"] = sample_submission.idxmax(axis = 1)"
      ],
      "execution_count": 81,
      "outputs": []
    },
    {
      "cell_type": "code",
      "metadata": {
        "colab": {
          "base_uri": "https://localhost:8080/",
          "height": 415
        },
        "id": "e57ERoMD1FUJ",
        "outputId": "697410f3-2b88-436b-e196-8d5808ba9857"
      },
      "source": [
        "sample_submission"
      ],
      "execution_count": 82,
      "outputs": [
        {
          "output_type": "execute_result",
          "data": {
            "text/html": [
              "<div>\n",
              "<style scoped>\n",
              "    .dataframe tbody tr th:only-of-type {\n",
              "        vertical-align: middle;\n",
              "    }\n",
              "\n",
              "    .dataframe tbody tr th {\n",
              "        vertical-align: top;\n",
              "    }\n",
              "\n",
              "    .dataframe thead th {\n",
              "        text-align: right;\n",
              "    }\n",
              "</style>\n",
              "<table border=\"1\" class=\"dataframe\">\n",
              "  <thead>\n",
              "    <tr style=\"text-align: right;\">\n",
              "      <th></th>\n",
              "      <th>0</th>\n",
              "      <th>1</th>\n",
              "      <th>2</th>\n",
              "      <th>3</th>\n",
              "      <th>4</th>\n",
              "      <th>target</th>\n",
              "    </tr>\n",
              "  </thead>\n",
              "  <tbody>\n",
              "    <tr>\n",
              "      <th>0</th>\n",
              "      <td>6.146085e-09</td>\n",
              "      <td>1.000000e+00</td>\n",
              "      <td>2.153176e-09</td>\n",
              "      <td>1.064489e-08</td>\n",
              "      <td>2.652135e-09</td>\n",
              "      <td>1</td>\n",
              "    </tr>\n",
              "    <tr>\n",
              "      <th>1</th>\n",
              "      <td>2.191326e-01</td>\n",
              "      <td>7.808635e-01</td>\n",
              "      <td>2.301459e-08</td>\n",
              "      <td>1.584562e-08</td>\n",
              "      <td>3.877850e-06</td>\n",
              "      <td>1</td>\n",
              "    </tr>\n",
              "    <tr>\n",
              "      <th>2</th>\n",
              "      <td>5.871196e-01</td>\n",
              "      <td>3.421561e-01</td>\n",
              "      <td>3.822850e-04</td>\n",
              "      <td>6.388924e-02</td>\n",
              "      <td>6.452677e-03</td>\n",
              "      <td>0</td>\n",
              "    </tr>\n",
              "    <tr>\n",
              "      <th>3</th>\n",
              "      <td>7.302752e-04</td>\n",
              "      <td>3.047418e-06</td>\n",
              "      <td>9.990910e-01</td>\n",
              "      <td>3.802957e-05</td>\n",
              "      <td>1.375391e-04</td>\n",
              "      <td>2</td>\n",
              "    </tr>\n",
              "    <tr>\n",
              "      <th>4</th>\n",
              "      <td>8.945480e-01</td>\n",
              "      <td>6.716053e-05</td>\n",
              "      <td>3.951922e-03</td>\n",
              "      <td>6.121074e-04</td>\n",
              "      <td>1.008208e-01</td>\n",
              "      <td>0</td>\n",
              "    </tr>\n",
              "    <tr>\n",
              "      <th>...</th>\n",
              "      <td>...</td>\n",
              "      <td>...</td>\n",
              "      <td>...</td>\n",
              "      <td>...</td>\n",
              "      <td>...</td>\n",
              "      <td>...</td>\n",
              "    </tr>\n",
              "    <tr>\n",
              "      <th>19612</th>\n",
              "      <td>2.284246e-04</td>\n",
              "      <td>9.997637e-01</td>\n",
              "      <td>1.356991e-07</td>\n",
              "      <td>7.667226e-06</td>\n",
              "      <td>7.027641e-09</td>\n",
              "      <td>1</td>\n",
              "    </tr>\n",
              "    <tr>\n",
              "      <th>19613</th>\n",
              "      <td>7.171574e-08</td>\n",
              "      <td>4.472842e-07</td>\n",
              "      <td>2.968666e-07</td>\n",
              "      <td>6.693192e-08</td>\n",
              "      <td>9.999991e-01</td>\n",
              "      <td>4</td>\n",
              "    </tr>\n",
              "    <tr>\n",
              "      <th>19614</th>\n",
              "      <td>7.505525e-05</td>\n",
              "      <td>9.999247e-01</td>\n",
              "      <td>1.257181e-08</td>\n",
              "      <td>2.061576e-07</td>\n",
              "      <td>4.138311e-09</td>\n",
              "      <td>1</td>\n",
              "    </tr>\n",
              "    <tr>\n",
              "      <th>19615</th>\n",
              "      <td>9.168059e-05</td>\n",
              "      <td>9.998764e-01</td>\n",
              "      <td>8.767270e-07</td>\n",
              "      <td>3.092400e-05</td>\n",
              "      <td>1.706633e-07</td>\n",
              "      <td>1</td>\n",
              "    </tr>\n",
              "    <tr>\n",
              "      <th>19616</th>\n",
              "      <td>9.999978e-01</td>\n",
              "      <td>4.672256e-07</td>\n",
              "      <td>1.344224e-06</td>\n",
              "      <td>2.739972e-07</td>\n",
              "      <td>1.096963e-07</td>\n",
              "      <td>0</td>\n",
              "    </tr>\n",
              "  </tbody>\n",
              "</table>\n",
              "<p>19617 rows × 6 columns</p>\n",
              "</div>"
            ],
            "text/plain": [
              "                  0             1  ...             4  target\n",
              "0      6.146085e-09  1.000000e+00  ...  2.652135e-09       1\n",
              "1      2.191326e-01  7.808635e-01  ...  3.877850e-06       1\n",
              "2      5.871196e-01  3.421561e-01  ...  6.452677e-03       0\n",
              "3      7.302752e-04  3.047418e-06  ...  1.375391e-04       2\n",
              "4      8.945480e-01  6.716053e-05  ...  1.008208e-01       0\n",
              "...             ...           ...  ...           ...     ...\n",
              "19612  2.284246e-04  9.997637e-01  ...  7.027641e-09       1\n",
              "19613  7.171574e-08  4.472842e-07  ...  9.999991e-01       4\n",
              "19614  7.505525e-05  9.999247e-01  ...  4.138311e-09       1\n",
              "19615  9.168059e-05  9.998764e-01  ...  1.706633e-07       1\n",
              "19616  9.999978e-01  4.672256e-07  ...  1.096963e-07       0\n",
              "\n",
              "[19617 rows x 6 columns]"
            ]
          },
          "metadata": {
            "tags": []
          },
          "execution_count": 82
        }
      ]
    },
    {
      "cell_type": "code",
      "metadata": {
        "id": "JjSE705p7Vgs"
      },
      "source": [
        "for i in range(len(test_y)):\n",
        "  for index in range(0,5):\n",
        "    if index == sample_submission[\"target\"][i]:\n",
        "      test_y[i][index] =1\n",
        "    else:\n",
        "      test_y[i][index] = 0\n",
        "\n"
      ],
      "execution_count": 96,
      "outputs": []
    },
    {
      "cell_type": "code",
      "metadata": {
        "colab": {
          "base_uri": "https://localhost:8080/"
        },
        "id": "NlNASbvB-6iG",
        "outputId": "95ab1ef5-d1b6-4454-ff79-3dec5ad22198"
      },
      "source": [
        "test_y"
      ],
      "execution_count": 97,
      "outputs": [
        {
          "output_type": "execute_result",
          "data": {
            "text/plain": [
              "array([[0., 1., 0., 0., 0.],\n",
              "       [0., 1., 0., 0., 0.],\n",
              "       [1., 0., 0., 0., 0.],\n",
              "       ...,\n",
              "       [0., 1., 0., 0., 0.],\n",
              "       [0., 1., 0., 0., 0.],\n",
              "       [1., 0., 0., 0., 0.]])"
            ]
          },
          "metadata": {
            "tags": []
          },
          "execution_count": 97
        }
      ]
    },
    {
      "cell_type": "code",
      "metadata": {
        "colab": {
          "base_uri": "https://localhost:8080/",
          "height": 415
        },
        "id": "ij85JpFn_B-T",
        "outputId": "566caf2b-68ee-40da-9b45-a8e604255e86"
      },
      "source": [
        "submission = pd.DataFrame(test_y)\n",
        "submission"
      ],
      "execution_count": 98,
      "outputs": [
        {
          "output_type": "execute_result",
          "data": {
            "text/html": [
              "<div>\n",
              "<style scoped>\n",
              "    .dataframe tbody tr th:only-of-type {\n",
              "        vertical-align: middle;\n",
              "    }\n",
              "\n",
              "    .dataframe tbody tr th {\n",
              "        vertical-align: top;\n",
              "    }\n",
              "\n",
              "    .dataframe thead th {\n",
              "        text-align: right;\n",
              "    }\n",
              "</style>\n",
              "<table border=\"1\" class=\"dataframe\">\n",
              "  <thead>\n",
              "    <tr style=\"text-align: right;\">\n",
              "      <th></th>\n",
              "      <th>0</th>\n",
              "      <th>1</th>\n",
              "      <th>2</th>\n",
              "      <th>3</th>\n",
              "      <th>4</th>\n",
              "    </tr>\n",
              "  </thead>\n",
              "  <tbody>\n",
              "    <tr>\n",
              "      <th>0</th>\n",
              "      <td>0.0</td>\n",
              "      <td>1.0</td>\n",
              "      <td>0.0</td>\n",
              "      <td>0.0</td>\n",
              "      <td>0.0</td>\n",
              "    </tr>\n",
              "    <tr>\n",
              "      <th>1</th>\n",
              "      <td>0.0</td>\n",
              "      <td>1.0</td>\n",
              "      <td>0.0</td>\n",
              "      <td>0.0</td>\n",
              "      <td>0.0</td>\n",
              "    </tr>\n",
              "    <tr>\n",
              "      <th>2</th>\n",
              "      <td>1.0</td>\n",
              "      <td>0.0</td>\n",
              "      <td>0.0</td>\n",
              "      <td>0.0</td>\n",
              "      <td>0.0</td>\n",
              "    </tr>\n",
              "    <tr>\n",
              "      <th>3</th>\n",
              "      <td>0.0</td>\n",
              "      <td>0.0</td>\n",
              "      <td>1.0</td>\n",
              "      <td>0.0</td>\n",
              "      <td>0.0</td>\n",
              "    </tr>\n",
              "    <tr>\n",
              "      <th>4</th>\n",
              "      <td>1.0</td>\n",
              "      <td>0.0</td>\n",
              "      <td>0.0</td>\n",
              "      <td>0.0</td>\n",
              "      <td>0.0</td>\n",
              "    </tr>\n",
              "    <tr>\n",
              "      <th>...</th>\n",
              "      <td>...</td>\n",
              "      <td>...</td>\n",
              "      <td>...</td>\n",
              "      <td>...</td>\n",
              "      <td>...</td>\n",
              "    </tr>\n",
              "    <tr>\n",
              "      <th>19612</th>\n",
              "      <td>0.0</td>\n",
              "      <td>1.0</td>\n",
              "      <td>0.0</td>\n",
              "      <td>0.0</td>\n",
              "      <td>0.0</td>\n",
              "    </tr>\n",
              "    <tr>\n",
              "      <th>19613</th>\n",
              "      <td>0.0</td>\n",
              "      <td>0.0</td>\n",
              "      <td>0.0</td>\n",
              "      <td>0.0</td>\n",
              "      <td>1.0</td>\n",
              "    </tr>\n",
              "    <tr>\n",
              "      <th>19614</th>\n",
              "      <td>0.0</td>\n",
              "      <td>1.0</td>\n",
              "      <td>0.0</td>\n",
              "      <td>0.0</td>\n",
              "      <td>0.0</td>\n",
              "    </tr>\n",
              "    <tr>\n",
              "      <th>19615</th>\n",
              "      <td>0.0</td>\n",
              "      <td>1.0</td>\n",
              "      <td>0.0</td>\n",
              "      <td>0.0</td>\n",
              "      <td>0.0</td>\n",
              "    </tr>\n",
              "    <tr>\n",
              "      <th>19616</th>\n",
              "      <td>1.0</td>\n",
              "      <td>0.0</td>\n",
              "      <td>0.0</td>\n",
              "      <td>0.0</td>\n",
              "      <td>0.0</td>\n",
              "    </tr>\n",
              "  </tbody>\n",
              "</table>\n",
              "<p>19617 rows × 5 columns</p>\n",
              "</div>"
            ],
            "text/plain": [
              "         0    1    2    3    4\n",
              "0      0.0  1.0  0.0  0.0  0.0\n",
              "1      0.0  1.0  0.0  0.0  0.0\n",
              "2      1.0  0.0  0.0  0.0  0.0\n",
              "3      0.0  0.0  1.0  0.0  0.0\n",
              "4      1.0  0.0  0.0  0.0  0.0\n",
              "...    ...  ...  ...  ...  ...\n",
              "19612  0.0  1.0  0.0  0.0  0.0\n",
              "19613  0.0  0.0  0.0  0.0  1.0\n",
              "19614  0.0  1.0  0.0  0.0  0.0\n",
              "19615  0.0  1.0  0.0  0.0  0.0\n",
              "19616  1.0  0.0  0.0  0.0  0.0\n",
              "\n",
              "[19617 rows x 5 columns]"
            ]
          },
          "metadata": {
            "tags": []
          },
          "execution_count": 98
        }
      ]
    }
  ]
}